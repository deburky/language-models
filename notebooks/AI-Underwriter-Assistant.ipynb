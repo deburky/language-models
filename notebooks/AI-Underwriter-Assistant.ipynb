{
 "cells": [
  {
   "cell_type": "markdown",
   "id": "988fb5b2-847b-4486-94ce-60e6eda7be36",
   "metadata": {},
   "source": [
    "# AI Underwriter Assistant\n",
    "\n",
    "Author: https://github.com/deburky"
   ]
  },
  {
   "cell_type": "code",
   "execution_count": 1,
   "id": "9cc8ccf7-79fc-4ef6-852d-8a420a0030b1",
   "metadata": {},
   "outputs": [],
   "source": [
    "import os\n",
    "import openai\n",
    "from dotenv import load_dotenv\n",
    "\n",
    "load_dotenv()\n",
    "\n",
    "openai_key = os.getenv('OPENAI_API_KEY')"
   ]
  },
  {
   "cell_type": "markdown",
   "id": "87fc915b-6108-4f65-a529-3532d9bfd27a",
   "metadata": {},
   "source": [
    "## Prepare training data\n",
    "\n",
    "Loan approval dataset is used to train the model with a few-shot learning."
   ]
  },
  {
   "cell_type": "code",
   "execution_count": 8,
   "id": "b3f5a361-a803-42eb-ab4a-d7a9fb95e710",
   "metadata": {},
   "outputs": [
    {
     "data": {
      "text/html": [
       "<div>\n",
       "<style scoped>\n",
       "    .dataframe tbody tr th:only-of-type {\n",
       "        vertical-align: middle;\n",
       "    }\n",
       "\n",
       "    .dataframe tbody tr th {\n",
       "        vertical-align: top;\n",
       "    }\n",
       "\n",
       "    .dataframe thead th {\n",
       "        text-align: right;\n",
       "    }\n",
       "</style>\n",
       "<table border=\"1\" class=\"dataframe\">\n",
       "  <thead>\n",
       "    <tr style=\"text-align: right;\">\n",
       "      <th></th>\n",
       "      <th>Loan_ID</th>\n",
       "      <th>Married</th>\n",
       "      <th>Dependents</th>\n",
       "      <th>Education</th>\n",
       "      <th>Self_Employed</th>\n",
       "      <th>ApplicantIncome</th>\n",
       "      <th>CoapplicantIncome</th>\n",
       "      <th>LoanAmount</th>\n",
       "      <th>Loan_Amount_Term</th>\n",
       "      <th>Credit_History</th>\n",
       "      <th>Property_Area</th>\n",
       "    </tr>\n",
       "  </thead>\n",
       "  <tbody>\n",
       "    <tr>\n",
       "      <th>2</th>\n",
       "      <td>LP001698</td>\n",
       "      <td>No</td>\n",
       "      <td>0</td>\n",
       "      <td>Graduate</td>\n",
       "      <td>Yes</td>\n",
       "      <td>2971</td>\n",
       "      <td>0.0</td>\n",
       "      <td>170.0</td>\n",
       "      <td>360.0</td>\n",
       "      <td>1.0</td>\n",
       "      <td>Semiurban</td>\n",
       "    </tr>\n",
       "    <tr>\n",
       "      <th>10</th>\n",
       "      <td>LP001385</td>\n",
       "      <td>No</td>\n",
       "      <td>0</td>\n",
       "      <td>Not Graduate</td>\n",
       "      <td>Yes</td>\n",
       "      <td>2679</td>\n",
       "      <td>1451.0</td>\n",
       "      <td>105.0</td>\n",
       "      <td>360.0</td>\n",
       "      <td>1.0</td>\n",
       "      <td>Semiurban</td>\n",
       "    </tr>\n",
       "    <tr>\n",
       "      <th>80</th>\n",
       "      <td>LP002284</td>\n",
       "      <td>Yes</td>\n",
       "      <td>0</td>\n",
       "      <td>Graduate</td>\n",
       "      <td>Yes</td>\n",
       "      <td>7333</td>\n",
       "      <td>1459.0</td>\n",
       "      <td>180.0</td>\n",
       "      <td>360.0</td>\n",
       "      <td>1.0</td>\n",
       "      <td>Urban</td>\n",
       "    </tr>\n",
       "    <tr>\n",
       "      <th>66</th>\n",
       "      <td>LP002205</td>\n",
       "      <td>Yes</td>\n",
       "      <td>0</td>\n",
       "      <td>Graduate</td>\n",
       "      <td>Yes</td>\n",
       "      <td>4310</td>\n",
       "      <td>923.0</td>\n",
       "      <td>124.0</td>\n",
       "      <td>360.0</td>\n",
       "      <td>1.0</td>\n",
       "      <td>Urban</td>\n",
       "    </tr>\n",
       "    <tr>\n",
       "      <th>56</th>\n",
       "      <td>LP002342</td>\n",
       "      <td>Yes</td>\n",
       "      <td>2</td>\n",
       "      <td>Graduate</td>\n",
       "      <td>Yes</td>\n",
       "      <td>4566</td>\n",
       "      <td>0.0</td>\n",
       "      <td>100.0</td>\n",
       "      <td>360.0</td>\n",
       "      <td>1.0</td>\n",
       "      <td>Semiurban</td>\n",
       "    </tr>\n",
       "  </tbody>\n",
       "</table>\n",
       "</div>"
      ],
      "text/plain": [
       "     Loan_ID Married Dependents     Education Self_Employed  ApplicantIncome  \\\n",
       "2   LP001698      No          0      Graduate           Yes             2971   \n",
       "10  LP001385      No          0  Not Graduate           Yes             2679   \n",
       "80  LP002284     Yes          0      Graduate           Yes             7333   \n",
       "66  LP002205     Yes          0      Graduate           Yes             4310   \n",
       "56  LP002342     Yes          2      Graduate           Yes             4566   \n",
       "\n",
       "    CoapplicantIncome  LoanAmount  Loan_Amount_Term  Credit_History  \\\n",
       "2                 0.0       170.0             360.0             1.0   \n",
       "10             1451.0       105.0             360.0             1.0   \n",
       "80             1459.0       180.0             360.0             1.0   \n",
       "66              923.0       124.0             360.0             1.0   \n",
       "56                0.0       100.0             360.0             1.0   \n",
       "\n",
       "   Property_Area  \n",
       "2      Semiurban  \n",
       "10     Semiurban  \n",
       "80         Urban  \n",
       "66         Urban  \n",
       "56     Semiurban  "
      ]
     },
     "metadata": {},
     "output_type": "display_data"
    }
   ],
   "source": [
    "# Fetch loan approval data\n",
    "import pandas as pd\n",
    "url = (\n",
    "    \"https://drive.google.com/file/d/1r6gGvL_s313ThGSU7ziZiuYr2G_yijaZ/view?usp=sharing\"\n",
    ")\n",
    "file_id = url.split(\"/\")[-2]\n",
    "dataset = pd.read_csv(f\"https://drive.google.com/uc?id={file_id}\")\n",
    "\n",
    "dataset.drop(columns=['Gender']).sample(n=700).to_csv('loans-9309cbc146a4.csv', index=False)\n",
    "dataset.drop(columns=['Gender', 'Loan_Status']).sample(n=100).to_csv('loans-new-9309cbc146a4.csv', index=False)\n",
    "\n",
    "train_set = pd.read_csv(\"loans-new-9309cbc146a4.csv\")\n",
    "display(train_set.sample(5))"
   ]
  },
  {
   "cell_type": "markdown",
   "id": "d99b11b8-3536-4386-815d-111cbfb132a2",
   "metadata": {},
   "source": [
    "## Assistant\n",
    "\n",
    "[OpenAI - Assistants API quickstart](https://platform.openai.com/docs/assistants/quickstart)\n",
    "\n",
    "[Fun with Assistants – getting them to really talk to each other](https://community.openai.com/t/fun-with-assistants-getting-them-to-really-talk-to-each-other/784073/12)"
   ]
  },
  {
   "cell_type": "code",
   "execution_count": 40,
   "id": "94f99684-317e-4020-a789-7cb964bafd52",
   "metadata": {},
   "outputs": [],
   "source": [
    "from openai import OpenAI\n",
    "client = OpenAI()\n",
    "\n",
    "# Upload a file with loans data\n",
    "loan_file = client.files.create(\n",
    "    file=open(\"loans-9309cbc146a4.csv\", \"rb\"),\n",
    "    purpose='assistants'\n",
    ")\n",
    "\n",
    "loan_file_new = client.files.create(\n",
    "    file=open(\"loans-new-9309cbc146a4.csv\", \"rb\"),\n",
    "    purpose='assistants'\n",
    ")\n",
    "\n",
    "# Create an assistant for AI underwriting\n",
    "assistant = client.beta.assistants.create(\n",
    "    name=\"AI Underwriter Assistant\",\n",
    "    description=\"\"\"\n",
    "        You are an AI assistant specialized in underwriting consumer loan applications. \n",
    "        You evaluate loan applications based on provided information and make decisions accordingly.\n",
    "        \"\"\"\n",
    "    ,\n",
    "    model=\"gpt-4o\",  # gpt-4-1106-preview\"\n",
    "    tools=[{\"type\": \"code_interpreter\"}],\n",
    "    tool_resources={\n",
    "        \"code_interpreter\": {\n",
    "        \"file_ids\": [loan_file.id]\n",
    "        }\n",
    "    }\n",
    ")"
   ]
  },
  {
   "cell_type": "markdown",
   "id": "1a937fc9",
   "metadata": {},
   "source": [
    "## Define the prompt for evaluation"
   ]
  },
  {
   "cell_type": "code",
   "execution_count": 41,
   "id": "a10e4e01",
   "metadata": {},
   "outputs": [],
   "source": [
    "# Define the prompt\n",
    "prompt = \"\"\"\n",
    "    I want you to first familiarize yourself with the past decisions in the first file.\n",
    "    After understanding the logic of past decisions, I want you to evaluate the decisions in the second file.\n",
    "    Your job is to give an answer \"Y\" (yes) or \"N\" (no) for each decision in the second file.\n",
    "    Like: Application 1. Decision: Yes. And so on.\n",
    "    In the end, please prepare a csv with Loan ID and Loan_Status column that you fill in for the second file.\n",
    "\"\"\"\n",
    "\n",
    "# Create a thread with both messages and tool_resources\n",
    "thread = client.beta.threads.create(\n",
    "    messages=[\n",
    "        {\n",
    "            \"role\": \"user\",\n",
    "            \"content\": prompt\n",
    "        }\n",
    "    ],\n",
    "    tool_resources={  \n",
    "        \"code_interpreter\": {  \n",
    "            \"file_ids\": [loan_file_new.id]\n",
    "        }\n",
    "    }\n",
    ")\n",
    "\n",
    "# Run the assistant\n",
    "run = client.beta.threads.runs.create(\n",
    "    thread_id=thread.id,\n",
    "    assistant_id=assistant.id\n",
    ")"
   ]
  },
  {
   "cell_type": "code",
   "execution_count": null,
   "id": "22b9c2b8-eb85-46cb-a8ca-db20ca921648",
   "metadata": {},
   "outputs": [
    {
     "data": {
      "text/html": [
       "<pre style=\"white-space:pre;overflow-x:auto;line-height:normal;font-family:Menlo,'DejaVu Sans Mono',consolas,'Courier New',monospace\">🔄 <span style=\"color: #00ffff; text-decoration-color: #00ffff\">Run started... </span><span style=\"color: #00ffff; text-decoration-color: #00ffff; font-weight: bold\">(</span><span style=\"color: #00ffff; text-decoration-color: #00ffff\">Run ID: run_igGsyLa04dpyO7E8svab4cYX</span><span style=\"color: #00ffff; text-decoration-color: #00ffff; font-weight: bold\">)</span>\n",
       "</pre>\n"
      ],
      "text/plain": [
       "🔄 \u001b[38;5;51mRun started\u001b[0m\u001b[38;5;51m...\u001b[0m\u001b[38;5;51m \u001b[0m\u001b[1;38;5;51m(\u001b[0m\u001b[38;5;51mRun ID: run_igGsyLa04dpyO7E8svab4cYX\u001b[0m\u001b[1;38;5;51m)\u001b[0m\n"
      ]
     },
     "metadata": {},
     "output_type": "display_data"
    },
    {
     "data": {
      "text/html": [
       "<pre style=\"white-space:pre;overflow-x:auto;line-height:normal;font-family:Menlo,'DejaVu Sans Mono',consolas,'Courier New',monospace\">/Users/deburky/Library/Caches/pypoetry/virtualenvs/language-models-qT78hDLD-py3.10/lib/python3.10/site-packages/ric\n",
       "h/live.py:231: UserWarning: install \"ipywidgets\" for Jupyter support\n",
       "  warnings.warn('install \"ipywidgets\" for Jupyter support')\n",
       "</pre>\n"
      ],
      "text/plain": [
       "/Users/deburky/Library/Caches/pypoetry/virtualenvs/language-models-qT78hDLD-py3.10/lib/python3.10/site-packages/ric\n",
       "h/live.py:231: UserWarning: install \"ipywidgets\" for Jupyter support\n",
       "  warnings.warn('install \"ipywidgets\" for Jupyter support')\n"
      ]
     },
     "metadata": {},
     "output_type": "display_data"
    },
    {
     "data": {
      "text/html": [
       "<pre style=\"white-space:pre;overflow-x:auto;line-height:normal;font-family:Menlo,'DejaVu Sans Mono',consolas,'Courier New',monospace\"></pre>\n"
      ],
      "text/plain": []
     },
     "metadata": {},
     "output_type": "display_data"
    },
    {
     "data": {
      "text/html": [
       "<pre style=\"white-space:pre;overflow-x:auto;line-height:normal;font-family:Menlo,'DejaVu Sans Mono',consolas,'Courier New',monospace\"><span style=\"font-style: italic\">                                              Assistant Conversation                                               </span>\n",
       "┏━━━━━━━━━━━━━━┳━━━━━━━━━━━━━━━━━━━━━━━━━━━━━━━━━━━━━━━━━━━━━━━━━━━━━━━━━━━━━━━━━━━━━━━━━━━━━━━━━━━━━━━━━━━━━━━━━━┓\n",
       "┃<span style=\"color: #00ffff; text-decoration-color: #00ffff; font-weight: bold\"> Role         </span>┃<span style=\"color: #00ffff; text-decoration-color: #00ffff; font-weight: bold\"> Message                                                                                          </span>┃\n",
       "┡━━━━━━━━━━━━━━╇━━━━━━━━━━━━━━━━━━━━━━━━━━━━━━━━━━━━━━━━━━━━━━━━━━━━━━━━━━━━━━━━━━━━━━━━━━━━━━━━━━━━━━━━━━━━━━━━━━┩\n",
       "│<span style=\"color: #00ffff; text-decoration-color: #00ffff\"> user         </span>│<span style=\"color: #c0c0c0; text-decoration-color: #c0c0c0\">                                                                                                  </span>│\n",
       "│<span style=\"color: #00ffff; text-decoration-color: #00ffff\">              </span>│<span style=\"color: #c0c0c0; text-decoration-color: #c0c0c0\">     I want you to first familiarize yourself with the past decisions in the first file.          </span>│\n",
       "│<span style=\"color: #00ffff; text-decoration-color: #00ffff\">              </span>│<span style=\"color: #c0c0c0; text-decoration-color: #c0c0c0\">     After understanding the logic of past decisions, I want you to evaluate the decisions in the </span>│\n",
       "│<span style=\"color: #00ffff; text-decoration-color: #00ffff\">              </span>│<span style=\"color: #c0c0c0; text-decoration-color: #c0c0c0\"> second file.                                                                                     </span>│\n",
       "│<span style=\"color: #00ffff; text-decoration-color: #00ffff\">              </span>│<span style=\"color: #c0c0c0; text-decoration-color: #c0c0c0\">     Your job is to give an answer \"Y\" (yes) or \"N\" (no) for each decision in the second file.    </span>│\n",
       "│<span style=\"color: #00ffff; text-decoration-color: #00ffff\">              </span>│<span style=\"color: #c0c0c0; text-decoration-color: #c0c0c0\">     Like: Application 1. Decision: Yes. And so on.                                               </span>│\n",
       "│<span style=\"color: #00ffff; text-decoration-color: #00ffff\">              </span>│<span style=\"color: #c0c0c0; text-decoration-color: #c0c0c0\">     In the end, please prepare a csv with Loan ID and Loan_Status column that you fill in for    </span>│\n",
       "│<span style=\"color: #00ffff; text-decoration-color: #00ffff\">              </span>│<span style=\"color: #c0c0c0; text-decoration-color: #c0c0c0\"> the second file.                                                                                 </span>│\n",
       "│<span style=\"color: #00ffff; text-decoration-color: #00ffff\">              </span>│<span style=\"color: #c0c0c0; text-decoration-color: #c0c0c0\">                                                                                                  </span>│\n",
       "│<span style=\"color: #00ffff; text-decoration-color: #00ffff\"> assistant    </span>│<span style=\"color: #c0c0c0; text-decoration-color: #c0c0c0\"> To assist you effectively, let me first inspect the contents of the files you've uploaded. I'll  </span>│\n",
       "│<span style=\"color: #00ffff; text-decoration-color: #00ffff\">              </span>│<span style=\"color: #c0c0c0; text-decoration-color: #c0c0c0\"> start by examining the first file to understand the decisions it contains. Then, I'll move on to </span>│\n",
       "│<span style=\"color: #00ffff; text-decoration-color: #00ffff\">              </span>│<span style=\"color: #c0c0c0; text-decoration-color: #c0c0c0\"> the second file to evaluate the decisions based on the understanding gained from the first file. </span>│\n",
       "│<span style=\"color: #00ffff; text-decoration-color: #00ffff\">              </span>│<span style=\"color: #c0c0c0; text-decoration-color: #c0c0c0\"> Let's start with the first file.                                                                 </span>│\n",
       "│<span style=\"color: #00ffff; text-decoration-color: #00ffff\"> assistant    </span>│<span style=\"color: #c0c0c0; text-decoration-color: #c0c0c0\"> The first file has the following columns which are likely used to make loan decisions:           </span>│\n",
       "│<span style=\"color: #00ffff; text-decoration-color: #00ffff\">              </span>│<span style=\"color: #c0c0c0; text-decoration-color: #c0c0c0\">                                                                                                  </span>│\n",
       "│<span style=\"color: #00ffff; text-decoration-color: #00ffff\">              </span>│<span style=\"color: #c0c0c0; text-decoration-color: #c0c0c0\"> - `Loan_ID`: Unique identifier for each loan application.                                        </span>│\n",
       "│<span style=\"color: #00ffff; text-decoration-color: #00ffff\">              </span>│<span style=\"color: #c0c0c0; text-decoration-color: #c0c0c0\"> - `Married`: Marital status of the applicant.                                                    </span>│\n",
       "│<span style=\"color: #00ffff; text-decoration-color: #00ffff\">              </span>│<span style=\"color: #c0c0c0; text-decoration-color: #c0c0c0\"> - `Dependents`: Number of dependents.                                                            </span>│\n",
       "│<span style=\"color: #00ffff; text-decoration-color: #00ffff\">              </span>│<span style=\"color: #c0c0c0; text-decoration-color: #c0c0c0\"> - `Education`: Education level of the applicant.                                                 </span>│\n",
       "│<span style=\"color: #00ffff; text-decoration-color: #00ffff\">              </span>│<span style=\"color: #c0c0c0; text-decoration-color: #c0c0c0\"> - `Self_Employed`: Whether the applicant is self-employed.                                       </span>│\n",
       "│<span style=\"color: #00ffff; text-decoration-color: #00ffff\">              </span>│<span style=\"color: #c0c0c0; text-decoration-color: #c0c0c0\"> - `ApplicantIncome`: Income of the applicant.                                                    </span>│\n",
       "│<span style=\"color: #00ffff; text-decoration-color: #00ffff\">              </span>│<span style=\"color: #c0c0c0; text-decoration-color: #c0c0c0\"> - `CoapplicantIncome`: Income of the co-applicant.                                               </span>│\n",
       "│<span style=\"color: #00ffff; text-decoration-color: #00ffff\">              </span>│<span style=\"color: #c0c0c0; text-decoration-color: #c0c0c0\"> - `LoanAmount`: Loan amount requested.                                                           </span>│\n",
       "│<span style=\"color: #00ffff; text-decoration-color: #00ffff\">              </span>│<span style=\"color: #c0c0c0; text-decoration-color: #c0c0c0\"> - `Loan_Amount_Term`: Term of the loan in months.                                                </span>│\n",
       "│<span style=\"color: #00ffff; text-decoration-color: #00ffff\">              </span>│<span style=\"color: #c0c0c0; text-decoration-color: #c0c0c0\"> - `Credit_History`: Credit history (1.0 good, 0.0 bad).                                          </span>│\n",
       "│<span style=\"color: #00ffff; text-decoration-color: #00ffff\">              </span>│<span style=\"color: #c0c0c0; text-decoration-color: #c0c0c0\"> - `Property_Area`: Area where the property is located.                                           </span>│\n",
       "│<span style=\"color: #00ffff; text-decoration-color: #00ffff\">              </span>│<span style=\"color: #c0c0c0; text-decoration-color: #c0c0c0\"> - `Loan_Status`: Approval status of the loan (Y for Yes, N for No).                              </span>│\n",
       "│<span style=\"color: #00ffff; text-decoration-color: #00ffff\">              </span>│<span style=\"color: #c0c0c0; text-decoration-color: #c0c0c0\">                                                                                                  </span>│\n",
       "│<span style=\"color: #00ffff; text-decoration-color: #00ffff\">              </span>│<span style=\"color: #c0c0c0; text-decoration-color: #c0c0c0\"> The `Loan_Status` column is what we'll focus on to recognize patterns in the approved or denied  </span>│\n",
       "│<span style=\"color: #00ffff; text-decoration-color: #00ffff\">              </span>│<span style=\"color: #c0c0c0; text-decoration-color: #c0c0c0\"> loans. Now, let's examine the second file, where we need to make decisions based on the pattern  </span>│\n",
       "│<span style=\"color: #00ffff; text-decoration-color: #00ffff\">              </span>│<span style=\"color: #c0c0c0; text-decoration-color: #c0c0c0\"> recognized.                                                                                      </span>│\n",
       "│<span style=\"color: #00ffff; text-decoration-color: #00ffff\"> assistant    </span>│<span style=\"color: #c0c0c0; text-decoration-color: #c0c0c0\"> The second file contains the same columns as the first, except it lacks the `Loan_Status`. Our   </span>│\n",
       "│<span style=\"color: #00ffff; text-decoration-color: #00ffff\">              </span>│<span style=\"color: #c0c0c0; text-decoration-color: #c0c0c0\"> task is to determine the loan status for these new applications. Let's begin by analyzing the    </span>│\n",
       "│<span style=\"color: #00ffff; text-decoration-color: #00ffff\">              </span>│<span style=\"color: #c0c0c0; text-decoration-color: #c0c0c0\"> decision patterns from the first file to form criteria for approving or denying each loan.       </span>│\n",
       "│<span style=\"color: #00ffff; text-decoration-color: #00ffff\"> assistant    </span>│<span style=\"color: #c0c0c0; text-decoration-color: #c0c0c0\"> It appears there was an issue accessing the correlation for `Loan_Status` since it is stored as  </span>│\n",
       "│<span style=\"color: #00ffff; text-decoration-color: #00ffff\">              </span>│<span style=\"color: #c0c0c0; text-decoration-color: #c0c0c0\"> a string (Y/N) rather than numerically. I will convert `Loan_Status` to numerical values for     </span>│\n",
       "│<span style=\"color: #00ffff; text-decoration-color: #00ffff\">              </span>│<span style=\"color: #c0c0c0; text-decoration-color: #c0c0c0\"> this analysis and attempt to understand the decision-making patterns based on the available      </span>│\n",
       "│<span style=\"color: #00ffff; text-decoration-color: #00ffff\">              </span>│<span style=\"color: #c0c0c0; text-decoration-color: #c0c0c0\"> data. Let's proceed with this approach.                                                          </span>│\n",
       "│<span style=\"color: #00ffff; text-decoration-color: #00ffff\"> assistant    </span>│<span style=\"color: #c0c0c0; text-decoration-color: #c0c0c0\"> The correlation analysis reveals that `Credit_History` has the strongest positive correlation    </span>│\n",
       "│<span style=\"color: #00ffff; text-decoration-color: #00ffff\">              </span>│<span style=\"color: #c0c0c0; text-decoration-color: #c0c0c0\"> with loan approval (`Loan_Status_Num`). This suggests that a good credit history is a            </span>│\n",
       "│<span style=\"color: #00ffff; text-decoration-color: #00ffff\">              </span>│<span style=\"color: #c0c0c0; text-decoration-color: #c0c0c0\"> significant factor in approving loans.                                                           </span>│\n",
       "│<span style=\"color: #00ffff; text-decoration-color: #00ffff\">              </span>│<span style=\"color: #c0c0c0; text-decoration-color: #c0c0c0\">                                                                                                  </span>│\n",
       "│<span style=\"color: #00ffff; text-decoration-color: #00ffff\">              </span>│<span style=\"color: #c0c0c0; text-decoration-color: #c0c0c0\"> Other factors like `ApplicantIncome`, `CoapplicantIncome`, `LoanAmount`, and `Loan_Amount_Term`  </span>│\n",
       "│<span style=\"color: #00ffff; text-decoration-color: #00ffff\">              </span>│<span style=\"color: #c0c0c0; text-decoration-color: #c0c0c0\"> have negative correlations but are much weaker, indicating they are less influential compared to </span>│\n",
       "│<span style=\"color: #00ffff; text-decoration-color: #00ffff\">              </span>│<span style=\"color: #c0c0c0; text-decoration-color: #c0c0c0\"> credit history.                                                                                  </span>│\n",
       "│<span style=\"color: #00ffff; text-decoration-color: #00ffff\">              </span>│<span style=\"color: #c0c0c0; text-decoration-color: #c0c0c0\">                                                                                                  </span>│\n",
       "│<span style=\"color: #00ffff; text-decoration-color: #00ffff\">              </span>│<span style=\"color: #c0c0c0; text-decoration-color: #c0c0c0\"> With this understanding, we can prioritize `Credit_History` as a critical factor in our          </span>│\n",
       "│<span style=\"color: #00ffff; text-decoration-color: #00ffff\">              </span>│<span style=\"color: #c0c0c0; text-decoration-color: #c0c0c0\"> decision-making for the new applications. Let's proceed to evaluate the decisions in the second  </span>│\n",
       "│<span style=\"color: #00ffff; text-decoration-color: #00ffff\">              </span>│<span style=\"color: #c0c0c0; text-decoration-color: #c0c0c0\"> file based on this insight. We'll make decisions primarily based on credit history while         </span>│\n",
       "│<span style=\"color: #00ffff; text-decoration-color: #00ffff\">              </span>│<span style=\"color: #c0c0c0; text-decoration-color: #c0c0c0\"> considering other factors as secondary.                                                          </span>│\n",
       "│<span style=\"color: #00ffff; text-decoration-color: #00ffff\"> assistant    </span>│<span style=\"color: #c0c0c0; text-decoration-color: #c0c0c0\"> Here are the loan decisions for the first few applications in the second file:                   </span>│\n",
       "│<span style=\"color: #00ffff; text-decoration-color: #00ffff\">              </span>│<span style=\"color: #c0c0c0; text-decoration-color: #c0c0c0\">                                                                                                  </span>│\n",
       "│<span style=\"color: #00ffff; text-decoration-color: #00ffff\">              </span>│<span style=\"color: #c0c0c0; text-decoration-color: #c0c0c0\"> 1. **Application LP002501**: Decision: Yes                                                       </span>│\n",
       "│<span style=\"color: #00ffff; text-decoration-color: #00ffff\">              </span>│<span style=\"color: #c0c0c0; text-decoration-color: #c0c0c0\"> 2. **Application LP002530**: Decision: No                                                        </span>│\n",
       "│<span style=\"color: #00ffff; text-decoration-color: #00ffff\">              </span>│<span style=\"color: #c0c0c0; text-decoration-color: #c0c0c0\"> 3. **Application LP001698**: Decision: Yes                                                       </span>│\n",
       "│<span style=\"color: #00ffff; text-decoration-color: #00ffff\">              </span>│<span style=\"color: #c0c0c0; text-decoration-color: #c0c0c0\"> 4. **Application LP001006**: Decision: Yes                                                       </span>│\n",
       "│<span style=\"color: #00ffff; text-decoration-color: #00ffff\">              </span>│<span style=\"color: #c0c0c0; text-decoration-color: #c0c0c0\"> 5. **Application LP001357**: Decision: Yes                                                       </span>│\n",
       "│<span style=\"color: #00ffff; text-decoration-color: #00ffff\">              </span>│<span style=\"color: #c0c0c0; text-decoration-color: #c0c0c0\">                                                                                                  </span>│\n",
       "│<span style=\"color: #00ffff; text-decoration-color: #00ffff\">              </span>│<span style=\"color: #c0c0c0; text-decoration-color: #c0c0c0\"> Now, I will prepare a CSV file containing the `Loan_ID` and their corresponding `Loan_Status`    </span>│\n",
       "│<span style=\"color: #00ffff; text-decoration-color: #00ffff\">              </span>│<span style=\"color: #c0c0c0; text-decoration-color: #c0c0c0\"> for all applications in the second file.                                                         </span>│\n",
       "│<span style=\"color: #00ffff; text-decoration-color: #00ffff\"> assistant    </span>│<span style=\"color: #c0c0c0; text-decoration-color: #c0c0c0\"> The loan decisions have been saved to a CSV file, which you can download using the following     </span>│\n",
       "│<span style=\"color: #00ffff; text-decoration-color: #00ffff\">              </span>│<span style=\"color: #c0c0c0; text-decoration-color: #c0c0c0\"> link:                                                                                            </span>│\n",
       "│<span style=\"color: #00ffff; text-decoration-color: #00ffff\">              </span>│<span style=\"color: #c0c0c0; text-decoration-color: #c0c0c0\">                                                                                                  </span>│\n",
       "│<span style=\"color: #00ffff; text-decoration-color: #00ffff\">              </span>│<span style=\"color: #c0c0c0; text-decoration-color: #c0c0c0\"> [Download Loan Decisions](sandbox:/mnt/data/loan_decisions.csv)                                  </span>│\n",
       "└──────────────┴──────────────────────────────────────────────────────────────────────────────────────────────────┘\n",
       "</pre>\n"
      ],
      "text/plain": [
       "\u001b[3m                                              Assistant Conversation                                               \u001b[0m\n",
       "┏━━━━━━━━━━━━━━┳━━━━━━━━━━━━━━━━━━━━━━━━━━━━━━━━━━━━━━━━━━━━━━━━━━━━━━━━━━━━━━━━━━━━━━━━━━━━━━━━━━━━━━━━━━━━━━━━━━┓\n",
       "┃\u001b[1;38;5;51m \u001b[0m\u001b[1;38;5;51mRole        \u001b[0m\u001b[1;38;5;51m \u001b[0m┃\u001b[1;38;5;51m \u001b[0m\u001b[1;38;5;51mMessage                                                                                         \u001b[0m\u001b[1;38;5;51m \u001b[0m┃\n",
       "┡━━━━━━━━━━━━━━╇━━━━━━━━━━━━━━━━━━━━━━━━━━━━━━━━━━━━━━━━━━━━━━━━━━━━━━━━━━━━━━━━━━━━━━━━━━━━━━━━━━━━━━━━━━━━━━━━━━┩\n",
       "│\u001b[38;5;51m \u001b[0m\u001b[38;5;51muser        \u001b[0m\u001b[38;5;51m \u001b[0m│\u001b[37m \u001b[0m\u001b[37m                                                                                                \u001b[0m\u001b[37m \u001b[0m│\n",
       "│\u001b[38;5;51m              \u001b[0m│\u001b[37m \u001b[0m\u001b[37m    I want you to first familiarize yourself with the past decisions in the first file.         \u001b[0m\u001b[37m \u001b[0m│\n",
       "│\u001b[38;5;51m              \u001b[0m│\u001b[37m \u001b[0m\u001b[37m    After understanding the logic of past decisions, I want you to evaluate the decisions in the\u001b[0m\u001b[37m \u001b[0m│\n",
       "│\u001b[38;5;51m              \u001b[0m│\u001b[37m \u001b[0m\u001b[37msecond file.                                                                                    \u001b[0m\u001b[37m \u001b[0m│\n",
       "│\u001b[38;5;51m              \u001b[0m│\u001b[37m \u001b[0m\u001b[37m    Your job is to give an answer \"Y\" (yes) or \"N\" (no) for each decision in the second file.   \u001b[0m\u001b[37m \u001b[0m│\n",
       "│\u001b[38;5;51m              \u001b[0m│\u001b[37m \u001b[0m\u001b[37m    Like: Application 1. Decision: Yes. And so on.                                              \u001b[0m\u001b[37m \u001b[0m│\n",
       "│\u001b[38;5;51m              \u001b[0m│\u001b[37m \u001b[0m\u001b[37m    In the end, please prepare a csv with Loan ID and Loan_Status column that you fill in for   \u001b[0m\u001b[37m \u001b[0m│\n",
       "│\u001b[38;5;51m              \u001b[0m│\u001b[37m \u001b[0m\u001b[37mthe second file.                                                                                \u001b[0m\u001b[37m \u001b[0m│\n",
       "│\u001b[38;5;51m              \u001b[0m│\u001b[37m \u001b[0m\u001b[37m                                                                                                \u001b[0m\u001b[37m \u001b[0m│\n",
       "│\u001b[38;5;51m \u001b[0m\u001b[38;5;51massistant   \u001b[0m\u001b[38;5;51m \u001b[0m│\u001b[37m \u001b[0m\u001b[37mTo assist you effectively, let me first inspect the contents of the files you've uploaded. I'll \u001b[0m\u001b[37m \u001b[0m│\n",
       "│\u001b[38;5;51m              \u001b[0m│\u001b[37m \u001b[0m\u001b[37mstart by examining the first file to understand the decisions it contains. Then, I'll move on to\u001b[0m\u001b[37m \u001b[0m│\n",
       "│\u001b[38;5;51m              \u001b[0m│\u001b[37m \u001b[0m\u001b[37mthe second file to evaluate the decisions based on the understanding gained from the first file.\u001b[0m\u001b[37m \u001b[0m│\n",
       "│\u001b[38;5;51m              \u001b[0m│\u001b[37m \u001b[0m\u001b[37mLet's start with the first file.                                                                \u001b[0m\u001b[37m \u001b[0m│\n",
       "│\u001b[38;5;51m \u001b[0m\u001b[38;5;51massistant   \u001b[0m\u001b[38;5;51m \u001b[0m│\u001b[37m \u001b[0m\u001b[37mThe first file has the following columns which are likely used to make loan decisions:          \u001b[0m\u001b[37m \u001b[0m│\n",
       "│\u001b[38;5;51m              \u001b[0m│\u001b[37m \u001b[0m\u001b[37m                                                                                                \u001b[0m\u001b[37m \u001b[0m│\n",
       "│\u001b[38;5;51m              \u001b[0m│\u001b[37m \u001b[0m\u001b[37m- `Loan_ID`: Unique identifier for each loan application.                                       \u001b[0m\u001b[37m \u001b[0m│\n",
       "│\u001b[38;5;51m              \u001b[0m│\u001b[37m \u001b[0m\u001b[37m- `Married`: Marital status of the applicant.                                                   \u001b[0m\u001b[37m \u001b[0m│\n",
       "│\u001b[38;5;51m              \u001b[0m│\u001b[37m \u001b[0m\u001b[37m- `Dependents`: Number of dependents.                                                           \u001b[0m\u001b[37m \u001b[0m│\n",
       "│\u001b[38;5;51m              \u001b[0m│\u001b[37m \u001b[0m\u001b[37m- `Education`: Education level of the applicant.                                                \u001b[0m\u001b[37m \u001b[0m│\n",
       "│\u001b[38;5;51m              \u001b[0m│\u001b[37m \u001b[0m\u001b[37m- `Self_Employed`: Whether the applicant is self-employed.                                      \u001b[0m\u001b[37m \u001b[0m│\n",
       "│\u001b[38;5;51m              \u001b[0m│\u001b[37m \u001b[0m\u001b[37m- `ApplicantIncome`: Income of the applicant.                                                   \u001b[0m\u001b[37m \u001b[0m│\n",
       "│\u001b[38;5;51m              \u001b[0m│\u001b[37m \u001b[0m\u001b[37m- `CoapplicantIncome`: Income of the co-applicant.                                              \u001b[0m\u001b[37m \u001b[0m│\n",
       "│\u001b[38;5;51m              \u001b[0m│\u001b[37m \u001b[0m\u001b[37m- `LoanAmount`: Loan amount requested.                                                          \u001b[0m\u001b[37m \u001b[0m│\n",
       "│\u001b[38;5;51m              \u001b[0m│\u001b[37m \u001b[0m\u001b[37m- `Loan_Amount_Term`: Term of the loan in months.                                               \u001b[0m\u001b[37m \u001b[0m│\n",
       "│\u001b[38;5;51m              \u001b[0m│\u001b[37m \u001b[0m\u001b[37m- `Credit_History`: Credit history (1.0 good, 0.0 bad).                                         \u001b[0m\u001b[37m \u001b[0m│\n",
       "│\u001b[38;5;51m              \u001b[0m│\u001b[37m \u001b[0m\u001b[37m- `Property_Area`: Area where the property is located.                                          \u001b[0m\u001b[37m \u001b[0m│\n",
       "│\u001b[38;5;51m              \u001b[0m│\u001b[37m \u001b[0m\u001b[37m- `Loan_Status`: Approval status of the loan (Y for Yes, N for No).                             \u001b[0m\u001b[37m \u001b[0m│\n",
       "│\u001b[38;5;51m              \u001b[0m│\u001b[37m \u001b[0m\u001b[37m                                                                                                \u001b[0m\u001b[37m \u001b[0m│\n",
       "│\u001b[38;5;51m              \u001b[0m│\u001b[37m \u001b[0m\u001b[37mThe `Loan_Status` column is what we'll focus on to recognize patterns in the approved or denied \u001b[0m\u001b[37m \u001b[0m│\n",
       "│\u001b[38;5;51m              \u001b[0m│\u001b[37m \u001b[0m\u001b[37mloans. Now, let's examine the second file, where we need to make decisions based on the pattern \u001b[0m\u001b[37m \u001b[0m│\n",
       "│\u001b[38;5;51m              \u001b[0m│\u001b[37m \u001b[0m\u001b[37mrecognized.                                                                                     \u001b[0m\u001b[37m \u001b[0m│\n",
       "│\u001b[38;5;51m \u001b[0m\u001b[38;5;51massistant   \u001b[0m\u001b[38;5;51m \u001b[0m│\u001b[37m \u001b[0m\u001b[37mThe second file contains the same columns as the first, except it lacks the `Loan_Status`. Our  \u001b[0m\u001b[37m \u001b[0m│\n",
       "│\u001b[38;5;51m              \u001b[0m│\u001b[37m \u001b[0m\u001b[37mtask is to determine the loan status for these new applications. Let's begin by analyzing the   \u001b[0m\u001b[37m \u001b[0m│\n",
       "│\u001b[38;5;51m              \u001b[0m│\u001b[37m \u001b[0m\u001b[37mdecision patterns from the first file to form criteria for approving or denying each loan.      \u001b[0m\u001b[37m \u001b[0m│\n",
       "│\u001b[38;5;51m \u001b[0m\u001b[38;5;51massistant   \u001b[0m\u001b[38;5;51m \u001b[0m│\u001b[37m \u001b[0m\u001b[37mIt appears there was an issue accessing the correlation for `Loan_Status` since it is stored as \u001b[0m\u001b[37m \u001b[0m│\n",
       "│\u001b[38;5;51m              \u001b[0m│\u001b[37m \u001b[0m\u001b[37ma string (Y/N) rather than numerically. I will convert `Loan_Status` to numerical values for    \u001b[0m\u001b[37m \u001b[0m│\n",
       "│\u001b[38;5;51m              \u001b[0m│\u001b[37m \u001b[0m\u001b[37mthis analysis and attempt to understand the decision-making patterns based on the available     \u001b[0m\u001b[37m \u001b[0m│\n",
       "│\u001b[38;5;51m              \u001b[0m│\u001b[37m \u001b[0m\u001b[37mdata. Let's proceed with this approach.                                                         \u001b[0m\u001b[37m \u001b[0m│\n",
       "│\u001b[38;5;51m \u001b[0m\u001b[38;5;51massistant   \u001b[0m\u001b[38;5;51m \u001b[0m│\u001b[37m \u001b[0m\u001b[37mThe correlation analysis reveals that `Credit_History` has the strongest positive correlation   \u001b[0m\u001b[37m \u001b[0m│\n",
       "│\u001b[38;5;51m              \u001b[0m│\u001b[37m \u001b[0m\u001b[37mwith loan approval (`Loan_Status_Num`). This suggests that a good credit history is a           \u001b[0m\u001b[37m \u001b[0m│\n",
       "│\u001b[38;5;51m              \u001b[0m│\u001b[37m \u001b[0m\u001b[37msignificant factor in approving loans.                                                          \u001b[0m\u001b[37m \u001b[0m│\n",
       "│\u001b[38;5;51m              \u001b[0m│\u001b[37m \u001b[0m\u001b[37m                                                                                                \u001b[0m\u001b[37m \u001b[0m│\n",
       "│\u001b[38;5;51m              \u001b[0m│\u001b[37m \u001b[0m\u001b[37mOther factors like `ApplicantIncome`, `CoapplicantIncome`, `LoanAmount`, and `Loan_Amount_Term` \u001b[0m\u001b[37m \u001b[0m│\n",
       "│\u001b[38;5;51m              \u001b[0m│\u001b[37m \u001b[0m\u001b[37mhave negative correlations but are much weaker, indicating they are less influential compared to\u001b[0m\u001b[37m \u001b[0m│\n",
       "│\u001b[38;5;51m              \u001b[0m│\u001b[37m \u001b[0m\u001b[37mcredit history.                                                                                 \u001b[0m\u001b[37m \u001b[0m│\n",
       "│\u001b[38;5;51m              \u001b[0m│\u001b[37m \u001b[0m\u001b[37m                                                                                                \u001b[0m\u001b[37m \u001b[0m│\n",
       "│\u001b[38;5;51m              \u001b[0m│\u001b[37m \u001b[0m\u001b[37mWith this understanding, we can prioritize `Credit_History` as a critical factor in our         \u001b[0m\u001b[37m \u001b[0m│\n",
       "│\u001b[38;5;51m              \u001b[0m│\u001b[37m \u001b[0m\u001b[37mdecision-making for the new applications. Let's proceed to evaluate the decisions in the second \u001b[0m\u001b[37m \u001b[0m│\n",
       "│\u001b[38;5;51m              \u001b[0m│\u001b[37m \u001b[0m\u001b[37mfile based on this insight. We'll make decisions primarily based on credit history while        \u001b[0m\u001b[37m \u001b[0m│\n",
       "│\u001b[38;5;51m              \u001b[0m│\u001b[37m \u001b[0m\u001b[37mconsidering other factors as secondary.                                                         \u001b[0m\u001b[37m \u001b[0m│\n",
       "│\u001b[38;5;51m \u001b[0m\u001b[38;5;51massistant   \u001b[0m\u001b[38;5;51m \u001b[0m│\u001b[37m \u001b[0m\u001b[37mHere are the loan decisions for the first few applications in the second file:                  \u001b[0m\u001b[37m \u001b[0m│\n",
       "│\u001b[38;5;51m              \u001b[0m│\u001b[37m \u001b[0m\u001b[37m                                                                                                \u001b[0m\u001b[37m \u001b[0m│\n",
       "│\u001b[38;5;51m              \u001b[0m│\u001b[37m \u001b[0m\u001b[37m1. **Application LP002501**: Decision: Yes                                                      \u001b[0m\u001b[37m \u001b[0m│\n",
       "│\u001b[38;5;51m              \u001b[0m│\u001b[37m \u001b[0m\u001b[37m2. **Application LP002530**: Decision: No                                                       \u001b[0m\u001b[37m \u001b[0m│\n",
       "│\u001b[38;5;51m              \u001b[0m│\u001b[37m \u001b[0m\u001b[37m3. **Application LP001698**: Decision: Yes                                                      \u001b[0m\u001b[37m \u001b[0m│\n",
       "│\u001b[38;5;51m              \u001b[0m│\u001b[37m \u001b[0m\u001b[37m4. **Application LP001006**: Decision: Yes                                                      \u001b[0m\u001b[37m \u001b[0m│\n",
       "│\u001b[38;5;51m              \u001b[0m│\u001b[37m \u001b[0m\u001b[37m5. **Application LP001357**: Decision: Yes                                                      \u001b[0m\u001b[37m \u001b[0m│\n",
       "│\u001b[38;5;51m              \u001b[0m│\u001b[37m \u001b[0m\u001b[37m                                                                                                \u001b[0m\u001b[37m \u001b[0m│\n",
       "│\u001b[38;5;51m              \u001b[0m│\u001b[37m \u001b[0m\u001b[37mNow, I will prepare a CSV file containing the `Loan_ID` and their corresponding `Loan_Status`   \u001b[0m\u001b[37m \u001b[0m│\n",
       "│\u001b[38;5;51m              \u001b[0m│\u001b[37m \u001b[0m\u001b[37mfor all applications in the second file.                                                        \u001b[0m\u001b[37m \u001b[0m│\n",
       "│\u001b[38;5;51m \u001b[0m\u001b[38;5;51massistant   \u001b[0m\u001b[38;5;51m \u001b[0m│\u001b[37m \u001b[0m\u001b[37mThe loan decisions have been saved to a CSV file, which you can download using the following    \u001b[0m\u001b[37m \u001b[0m│\n",
       "│\u001b[38;5;51m              \u001b[0m│\u001b[37m \u001b[0m\u001b[37mlink:                                                                                           \u001b[0m\u001b[37m \u001b[0m│\n",
       "│\u001b[38;5;51m              \u001b[0m│\u001b[37m \u001b[0m\u001b[37m                                                                                                \u001b[0m\u001b[37m \u001b[0m│\n",
       "│\u001b[38;5;51m              \u001b[0m│\u001b[37m \u001b[0m\u001b[37m[Download Loan Decisions](sandbox:/mnt/data/loan_decisions.csv)                                 \u001b[0m\u001b[37m \u001b[0m│\n",
       "└──────────────┴──────────────────────────────────────────────────────────────────────────────────────────────────┘\n"
      ]
     },
     "metadata": {},
     "output_type": "display_data"
    },
    {
     "data": {
      "text/html": [
       "<pre style=\"white-space:pre;overflow-x:auto;line-height:normal;font-family:Menlo,'DejaVu Sans Mono',consolas,'Courier New',monospace\">✅ <span style=\"color: #00ffff; text-decoration-color: #00ffff\">Run completed!</span>\n",
       "</pre>\n"
      ],
      "text/plain": [
       "✅ \u001b[38;5;51mRun completed!\u001b[0m\n"
      ]
     },
     "metadata": {},
     "output_type": "display_data"
    }
   ],
   "source": [
    "import time\n",
    "from rich.console import Console\n",
    "from rich.live import Live\n",
    "from rich.table import Table\n",
    "\n",
    "console = Console()\n",
    "\n",
    "console.print(f\"🔄 [cyan1]Run started... (Run ID: {run.id})[/cyan1]\")\n",
    "\n",
    "# Function to fetch messages and display them\n",
    "def fetch_messages():\n",
    "    messages = client.beta.threads.messages.list(thread_id=thread.id)\n",
    "    table = Table(title=\"Assistant Conversation\", show_header=True, header_style=\"bold cyan1\")\n",
    "    table.add_column(\"Role\", style=\"cyan1\", width=12)\n",
    "    table.add_column(\"Message\", style=\"white\")\n",
    "\n",
    "    for message in reversed(messages.data):  # Reverse to show latest first\n",
    "        text = message.content[0].text.value if message.content else \"[No content]\"\n",
    "        table.add_row(message.role, text)\n",
    "\n",
    "    return table\n",
    "\n",
    "# Monitor the run until completion\n",
    "with Live(fetch_messages(), refresh_per_second=1, console=console) as live:\n",
    "    while True:\n",
    "        run_status = client.beta.threads.runs.retrieve(thread_id=thread.id, run_id=run.id)\n",
    "        if run_status.status in [\"completed\", \"failed\", \"cancelled\"]:\n",
    "            break\n",
    "        live.update(fetch_messages())\n",
    "        time.sleep(2)\n",
    "\n",
    "# Final message update\n",
    "console.print(fetch_messages())\n",
    "console.print(\"✅ [cyan1]Run completed![/cyan1]\")"
   ]
  },
  {
   "cell_type": "markdown",
   "id": "d415b077-3212-4826-9a0a-73b9d936fd53",
   "metadata": {},
   "source": [
    "## Save report"
   ]
  },
  {
   "cell_type": "code",
   "execution_count": 44,
   "id": "41aee0ec",
   "metadata": {},
   "outputs": [
    {
     "data": {
      "text/html": [
       "<div>\n",
       "<style scoped>\n",
       "    .dataframe tbody tr th:only-of-type {\n",
       "        vertical-align: middle;\n",
       "    }\n",
       "\n",
       "    .dataframe tbody tr th {\n",
       "        vertical-align: top;\n",
       "    }\n",
       "\n",
       "    .dataframe thead th {\n",
       "        text-align: right;\n",
       "    }\n",
       "</style>\n",
       "<table border=\"1\" class=\"dataframe\">\n",
       "  <thead>\n",
       "    <tr style=\"text-align: right;\">\n",
       "      <th></th>\n",
       "      <th>File ID</th>\n",
       "      <th>Filename</th>\n",
       "      <th>Purpose</th>\n",
       "      <th>Status</th>\n",
       "    </tr>\n",
       "  </thead>\n",
       "  <tbody>\n",
       "    <tr>\n",
       "      <th>0</th>\n",
       "      <td>file-BNWhQxwMJ8iAddiPexp7Cu</td>\n",
       "      <td>/mnt/data/loan_decisions.csv</td>\n",
       "      <td>assistants_output</td>\n",
       "      <td>processed</td>\n",
       "    </tr>\n",
       "    <tr>\n",
       "      <th>1</th>\n",
       "      <td>file-Y7gF6oKQ9eudKd4ryv73qG</td>\n",
       "      <td>loans-new-9309cbc146a4.csv</td>\n",
       "      <td>assistants</td>\n",
       "      <td>processed</td>\n",
       "    </tr>\n",
       "    <tr>\n",
       "      <th>2</th>\n",
       "      <td>file-5G7ewhxpp2RhgX5wikX6qi</td>\n",
       "      <td>loans-9309cbc146a4.csv</td>\n",
       "      <td>assistants</td>\n",
       "      <td>processed</td>\n",
       "    </tr>\n",
       "  </tbody>\n",
       "</table>\n",
       "</div>"
      ],
      "text/plain": [
       "                       File ID                      Filename  \\\n",
       "0  file-BNWhQxwMJ8iAddiPexp7Cu  /mnt/data/loan_decisions.csv   \n",
       "1  file-Y7gF6oKQ9eudKd4ryv73qG    loans-new-9309cbc146a4.csv   \n",
       "2  file-5G7ewhxpp2RhgX5wikX6qi        loans-9309cbc146a4.csv   \n",
       "\n",
       "             Purpose     Status  \n",
       "0  assistants_output  processed  \n",
       "1         assistants  processed  \n",
       "2         assistants  processed  "
      ]
     },
     "metadata": {},
     "output_type": "display_data"
    }
   ],
   "source": [
    "import pandas as pd\n",
    "from openai import OpenAI\n",
    "\n",
    "# Fetch the list of files\n",
    "files = client.files.list()\n",
    "\n",
    "# Extract filenames and file IDs\n",
    "file_info = [(file.id, file.filename, file.purpose, file.status) for file in files.data]\n",
    "\n",
    "# Convert to DataFrame for better readability\n",
    "df_files = pd.DataFrame(file_info, columns=[\"File ID\", \"Filename\", \"Purpose\", \"Status\"])\n",
    "\n",
    "# # Display the extracted filenames\n",
    "display(df_files)"
   ]
  },
  {
   "cell_type": "code",
   "execution_count": null,
   "id": "0b81f8e5-ae65-4e20-afa3-c185ccf42034",
   "metadata": {},
   "outputs": [
    {
     "name": "stderr",
     "output_type": "stream",
     "text": [
      "/var/folders/k_/yz8rvp25185_js60dw8vhnj40000gn/T/ipykernel_41203/1370021253.py:3: DeprecationWarning: The `.content()` method should be used instead\n",
      "  content = client.files.retrieve_content(evaluation_results)\n"
     ]
    },
    {
     "name": "stdout",
     "output_type": "stream",
     "text": [
      "    Loan_ID Loan_Status\n",
      "0  LP002501           Y\n",
      "1  LP002530           N\n",
      "2  LP001698           Y\n",
      "3  LP001006           Y\n",
      "4  LP001357           Y\n"
     ]
    }
   ],
   "source": [
    "import io\n",
    "evaluation_results = df_files.iloc[0]['File ID'] # Fetch assistants_output\n",
    "content = client.files.retrieve_content(evaluation_results)\n",
    "csv_string = content\n",
    "csv_file = io.StringIO(csv_string)\n",
    "df = pd.read_csv(csv_file)\n",
    "print(df.head(5))"
   ]
  },
  {
   "cell_type": "code",
   "execution_count": 52,
   "id": "388ada29-43b9-4928-b036-074ea1b7adba",
   "metadata": {},
   "outputs": [],
   "source": [
    "df.to_csv('loans-new-FKJESKpN5LYuSG21np1PYE.csv', index=False)"
   ]
  },
  {
   "cell_type": "markdown",
   "id": "10a97a91-c8ba-4caf-9ea8-53c4f0b25df9",
   "metadata": {},
   "source": [
    "## Evaluation against ground truth"
   ]
  },
  {
   "cell_type": "code",
   "execution_count": 53,
   "id": "5fb2f9cd-9184-45d8-834a-4d6899b50f94",
   "metadata": {},
   "outputs": [
    {
     "name": "stderr",
     "output_type": "stream",
     "text": [
      "/var/folders/k_/yz8rvp25185_js60dw8vhnj40000gn/T/ipykernel_41203/2525230116.py:7: FutureWarning: Downcasting behavior in `replace` is deprecated and will be removed in a future version. To retain the old behavior, explicitly call `result.infer_objects(copy=False)`. To opt-in to the future behavior, set `pd.set_option('future.no_silent_downcasting', True)`\n",
      "  testing_df.replace({'Y': 1, 'N': 0}, inplace=True)\n"
     ]
    }
   ],
   "source": [
    "# Get real decisions outcomes\n",
    "testing_df = df.merge(\n",
    "    dataset[['Loan_ID', 'Loan_Status']], \n",
    "    on='Loan_ID',\n",
    "    suffixes=('_Assistant', '_Truth')\n",
    ")\n",
    "testing_df.replace({'Y': 1, 'N': 0}, inplace=True)"
   ]
  },
  {
   "cell_type": "code",
   "execution_count": 54,
   "id": "48a37d72-95ae-43b6-af11-563550640a6d",
   "metadata": {},
   "outputs": [
    {
     "data": {
      "text/plain": [
       "Loan_Status_Assistant    0.812439\n",
       "Loan_Status_Truth        0.691448\n",
       "dtype: float64"
      ]
     },
     "execution_count": 54,
     "metadata": {},
     "output_type": "execute_result"
    }
   ],
   "source": [
    "testing_df[['Loan_Status_Assistant', 'Loan_Status_Truth']].mean()"
   ]
  },
  {
   "cell_type": "code",
   "execution_count": 55,
   "id": "54b797c8-802a-4932-864a-b9b28e2e5323",
   "metadata": {},
   "outputs": [
    {
     "data": {
      "text/html": [
       "<div>\n",
       "<style scoped>\n",
       "    .dataframe tbody tr th:only-of-type {\n",
       "        vertical-align: middle;\n",
       "    }\n",
       "\n",
       "    .dataframe tbody tr th {\n",
       "        vertical-align: top;\n",
       "    }\n",
       "\n",
       "    .dataframe thead th {\n",
       "        text-align: right;\n",
       "    }\n",
       "</style>\n",
       "<table border=\"1\" class=\"dataframe\">\n",
       "  <thead>\n",
       "    <tr style=\"text-align: right;\">\n",
       "      <th>Loan_Status_Assistant</th>\n",
       "      <th>0</th>\n",
       "      <th>1</th>\n",
       "    </tr>\n",
       "    <tr>\n",
       "      <th>Loan_Status_Truth</th>\n",
       "      <th></th>\n",
       "      <th></th>\n",
       "    </tr>\n",
       "  </thead>\n",
       "  <tbody>\n",
       "    <tr>\n",
       "      <th>0</th>\n",
       "      <td>0.063168</td>\n",
       "      <td>0.245384</td>\n",
       "    </tr>\n",
       "    <tr>\n",
       "      <th>1</th>\n",
       "      <td>0.124393</td>\n",
       "      <td>0.567055</td>\n",
       "    </tr>\n",
       "  </tbody>\n",
       "</table>\n",
       "</div>"
      ],
      "text/plain": [
       "Loan_Status_Assistant         0         1\n",
       "Loan_Status_Truth                        \n",
       "0                      0.063168  0.245384\n",
       "1                      0.124393  0.567055"
      ]
     },
     "metadata": {},
     "output_type": "display_data"
    }
   ],
   "source": [
    "decision_matrix = pd.crosstab(testing_df['Loan_Status_Truth'], testing_df['Loan_Status_Assistant'], normalize='all')\n",
    "display(decision_matrix)"
   ]
  },
  {
   "cell_type": "markdown",
   "id": "e16c7767",
   "metadata": {},
   "source": [
    "## Delete the assistant and files"
   ]
  },
  {
   "cell_type": "code",
   "execution_count": null,
   "id": "a1278147",
   "metadata": {},
   "outputs": [
    {
     "name": "stdout",
     "output_type": "stream",
     "text": [
      "✓ All assistants deleted!\n",
      "✓ All files deleted!\n"
     ]
    }
   ],
   "source": [
    "# Fetch all assistants\n",
    "assistants = client.beta.assistants.list()\n",
    "\n",
    "# Delete each assistant\n",
    "for assistant in assistants.data:\n",
    "    print(f\"Deleting Assistant: {assistant.name} (ID: {assistant.id})\")\n",
    "    client.beta.assistants.delete(assistant.id)\n",
    "\n",
    "print(\"✅ All assistants deleted!\")\n",
    "\n",
    "# Fetch all files\n",
    "files = client.files.list()\n",
    "\n",
    "# Delete each file\n",
    "for file in files.data:\n",
    "    print(f\"Deleting File: {file.filename} (ID: {file.id})\")\n",
    "    client.files.delete(file.id)\n",
    "\n",
    "print(\"✅ All files deleted!\")"
   ]
  }
 ],
 "metadata": {
  "kernelspec": {
   "display_name": "language-models-qT78hDLD-py3.10",
   "language": "python",
   "name": "python3"
  },
  "language_info": {
   "codemirror_mode": {
    "name": "ipython",
    "version": 3
   },
   "file_extension": ".py",
   "mimetype": "text/x-python",
   "name": "python",
   "nbconvert_exporter": "python",
   "pygments_lexer": "ipython3",
   "version": "3.10.12"
  }
 },
 "nbformat": 4,
 "nbformat_minor": 5
}
